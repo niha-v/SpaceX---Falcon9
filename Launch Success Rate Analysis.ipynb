
{
 "cells": [
  {
   "cell_type": "markdown",
   "id": "3e8788f7",
   "metadata": {},
   "source": [
    "# Data Preprocessing"
   ]
  },
  {
   "cell_type": "code",
   "execution_count": null,
   "id": "7402784d",
   "metadata": {},
   "outputs": [],
   "source": [
    "# Import Libraries\n",
    "import pandas as pd\n",
    "import numpy as np\n",
    "import matplotlib.pyplot as plt\n",
    "import seaborn as sns"
   ]
  },
  {
   "cell_type": "code",
   "execution_count": 2,
   "id": "408a62a3",
   "metadata": {},
   "outputs": [],
   "source": [
    "# Load the dataset\n",
    "df = pd.read_csv('Spacex_falcon9.csv')"
   ]
  },
  {
   "cell_type": "code",
   "execution_count": 3,
   "id": "bd9693f5",
   "metadata": {},
   "outputs": [
    {
     "name": "stdout",
     "output_type": "stream",
     "text": [
      "<class 'pandas.core.frame.DataFrame'>\n",
      "RangeIndex: 90 entries, 0 to 89\n",
      "Data columns (total 17 columns):\n",
      " #   Column          Non-Null Count  Dtype  \n",
      "---  ------          --------------  -----  \n",
      " 0   FlightNumber    90 non-null     int64  \n",
      " 1   Date            90 non-null     object \n",
      " 2   BoosterVersion  90 non-null     object \n",
      " 3   PayloadMass     90 non-null     float64\n",
      " 4   Orbit           90 non-null     object \n",
      " 5   LaunchSite      90 non-null     object \n",
      " 6   Outcome         90 non-null     object \n",
      " 7   Flights         90 non-null     int64  \n",
      " 8   GridFins        90 non-null     bool   \n",
      " 9   Reused          90 non-null     bool   \n",
      " 10  Legs            90 non-null     bool   \n",
      " 11  LandingPad      64 non-null     object \n",
      " 12  Block           90 non-null     int64  \n",
      " 13  ReusedCount     90 non-null     int64  \n",
      " 14  Serial          90 non-null     object \n",
      " 15  Longitude       90 non-null     float64\n",
      " 16  Latitude        90 non-null     float64\n",
      "dtypes: bool(3), float64(3), int64(4), object(7)\n",
      "memory usage: 10.2+ KB\n",
      "None\n"
     ]
    }
   ],
   "source": [
    "# Check column names and data types\n",
    "print(df.info())"
   ]
  },
  {
   "cell_type": "code",
   "execution_count": 4,
   "id": "121d7bf0",
   "metadata": {},
   "outputs": [
    {
     "name": "stdout",
     "output_type": "stream",
     "text": [
      "FlightNumber       0\n",
      "Date               0\n",
      "BoosterVersion     0\n",
      "PayloadMass        0\n",
      "Orbit              0\n",
      "LaunchSite         0\n",
      "Outcome            0\n",
      "Flights            0\n",
      "GridFins           0\n",
      "Reused             0\n",
      "Legs               0\n",
      "LandingPad        26\n",
      "Block              0\n",
      "ReusedCount        0\n",
      "Serial             0\n",
      "Longitude          0\n",
      "Latitude           0\n",
      "dtype: int64\n"
     ]
    }
   ],
   "source": [
    "# Check for missing values\n",
    "print(df.isnull().sum())"
   ]
  },
  {
   "cell_type": "markdown",
   "id": "0100ab95",
   "metadata": {},
   "source": [
    "Convert Data type"
   ]
  },
  {
   "cell_type": "code",
   "execution_count": 5,
   "id": "36f5adbf",
   "metadata": {},
   "outputs": [],
   "source": [
    "df['Date'] = pd.to_datetime(df['Date'])"
   ]
  },
  {
   "cell_type": "markdown",
   "id": "ebe7d67c",
   "metadata": {},
   "source": [
    "Extract Year:"
   ]
  },
  {
   "cell_type": "code",
   "execution_count": 6,
   "id": "d342e930",
   "metadata": {},
   "outputs": [],
   "source": [
    "df['year'] = df['Date'].dt.year"
   ]
  },
  {
   "cell_type": "code",
   "execution_count": 7,
   "id": "e3b86c31",
   "metadata": {},
   "outputs": [
    {
     "data": {
      "text/html": [
       "<div>\n",
       "<style scoped>\n",
       "    .dataframe tbody tr th:only-of-type {\n",
       "        vertical-align: middle;\n",
       "    }\n",
       "\n",
       "    .dataframe tbody tr th {\n",
       "        vertical-align: top;\n",
       "    }\n",
       "\n",
       "    .dataframe thead th {\n",
       "        text-align: right;\n",
       "    }\n",
       "</style>\n",
       "<table border=\"1\" class=\"dataframe\">\n",
       "  <thead>\n",
       "    <tr style=\"text-align: right;\">\n",
       "      <th></th>\n",
       "      <th>FlightNumber</th>\n",
       "      <th>Date</th>\n",
       "      <th>BoosterVersion</th>\n",
       "      <th>PayloadMass</th>\n",
       "      <th>Orbit</th>\n",
       "      <th>LaunchSite</th>\n",
       "      <th>Outcome</th>\n",
       "      <th>Flights</th>\n",
       "      <th>GridFins</th>\n",
       "      <th>Reused</th>\n",
       "      <th>Legs</th>\n",
       "      <th>LandingPad</th>\n",
       "      <th>Block</th>\n",
       "      <th>ReusedCount</th>\n",
       "      <th>Serial</th>\n",
       "      <th>Longitude</th>\n",
       "      <th>Latitude</th>\n",
       "      <th>year</th>\n",
       "    </tr>\n",
       "  </thead>\n",
       "  <tbody>\n",
       "    <tr>\n",
       "      <th>0</th>\n",
       "      <td>1</td>\n",
       "      <td>2010-06-04</td>\n",
       "      <td>Falcon 9</td>\n",
       "      <td>6123.547647</td>\n",
       "      <td>LEO</td>\n",
       "      <td>CCSFS SLC 40</td>\n",
       "      <td>None None</td>\n",
       "      <td>1</td>\n",
       "      <td>False</td>\n",
       "      <td>False</td>\n",
       "      <td>False</td>\n",
       "      <td>NaN</td>\n",
       "      <td>1</td>\n",
       "      <td>0</td>\n",
       "      <td>B0003</td>\n",
       "      <td>-80.577366</td>\n",
       "      <td>28.561857</td>\n",
       "      <td>2010</td>\n",
       "    </tr>\n",
       "    <tr>\n",
       "      <th>1</th>\n",
       "      <td>2</td>\n",
       "      <td>2012-05-22</td>\n",
       "      <td>Falcon 9</td>\n",
       "      <td>525.000000</td>\n",
       "      <td>LEO</td>\n",
       "      <td>CCSFS SLC 40</td>\n",
       "      <td>None None</td>\n",
       "      <td>1</td>\n",
       "      <td>False</td>\n",
       "      <td>False</td>\n",
       "      <td>False</td>\n",
       "      <td>NaN</td>\n",
       "      <td>1</td>\n",
       "      <td>0</td>\n",
       "      <td>B0005</td>\n",
       "      <td>-80.577366</td>\n",
       "      <td>28.561857</td>\n",
       "      <td>2012</td>\n",
       "    </tr>\n",
       "    <tr>\n",
       "      <th>2</th>\n",
       "      <td>3</td>\n",
       "      <td>2013-03-01</td>\n",
       "      <td>Falcon 9</td>\n",
       "      <td>677.000000</td>\n",
       "      <td>ISS</td>\n",
       "      <td>CCSFS SLC 40</td>\n",
       "      <td>None None</td>\n",
       "      <td>1</td>\n",
       "      <td>False</td>\n",
       "      <td>False</td>\n",
       "      <td>False</td>\n",
       "      <td>NaN</td>\n",
       "      <td>1</td>\n",
       "      <td>0</td>\n",
       "      <td>B0007</td>\n",
       "      <td>-80.577366</td>\n",
       "      <td>28.561857</td>\n",
       "      <td>2013</td>\n",
       "    </tr>\n",
       "    <tr>\n",
       "      <th>3</th>\n",
       "      <td>4</td>\n",
       "      <td>2013-09-29</td>\n",
       "      <td>Falcon 9</td>\n",
       "      <td>500.000000</td>\n",
       "      <td>PO</td>\n",
       "      <td>VAFB SLC 4E</td>\n",
       "      <td>False Ocean</td>\n",
       "      <td>1</td>\n",
       "      <td>False</td>\n",
       "      <td>False</td>\n",
       "      <td>False</td>\n",
       "      <td>NaN</td>\n",
       "      <td>1</td>\n",
       "      <td>0</td>\n",
       "      <td>B1003</td>\n",
       "      <td>-120.610829</td>\n",
       "      <td>34.632093</td>\n",
       "      <td>2013</td>\n",
       "    </tr>\n",
       "    <tr>\n",
       "      <th>4</th>\n",
       "      <td>5</td>\n",
       "      <td>2013-12-03</td>\n",
       "      <td>Falcon 9</td>\n",
       "      <td>3170.000000</td>\n",
       "      <td>GTO</td>\n",
       "      <td>CCSFS SLC 40</td>\n",
       "      <td>None None</td>\n",
       "      <td>1</td>\n",
       "      <td>False</td>\n",
       "      <td>False</td>\n",
       "      <td>False</td>\n",
       "      <td>NaN</td>\n",
       "      <td>1</td>\n",
       "      <td>0</td>\n",
       "      <td>B1004</td>\n",
       "      <td>-80.577366</td>\n",
       "      <td>28.561857</td>\n",
       "      <td>2013</td>\n",
       "    </tr>\n",
       "  </tbody>\n",
       "</table>\n",
       "</div>"
      ],
      "text/plain": [
       "   FlightNumber       Date BoosterVersion  PayloadMass Orbit    LaunchSite  \\\n",
       "0             1 2010-06-04       Falcon 9  6123.547647   LEO  CCSFS SLC 40   \n",
       "1             2 2012-05-22       Falcon 9   525.000000   LEO  CCSFS SLC 40   \n",
       "2             3 2013-03-01       Falcon 9   677.000000   ISS  CCSFS SLC 40   \n",
       "3             4 2013-09-29       Falcon 9   500.000000    PO   VAFB SLC 4E   \n",
       "4             5 2013-12-03       Falcon 9  3170.000000   GTO  CCSFS SLC 40   \n",
       "\n",
       "       Outcome  Flights  GridFins  Reused   Legs LandingPad  Block  \\\n",
       "0    None None        1     False   False  False        NaN      1   \n",
       "1    None None        1     False   False  False        NaN      1   \n",
       "2    None None        1     False   False  False        NaN      1   \n",
       "3  False Ocean        1     False   False  False        NaN      1   \n",
       "4    None None        1     False   False  False        NaN      1   \n",
       "\n",
       "   ReusedCount Serial   Longitude   Latitude  year  \n",
       "0            0  B0003  -80.577366  28.561857  2010  \n",
       "1            0  B0005  -80.577366  28.561857  2012  \n",
       "2            0  B0007  -80.577366  28.561857  2013  \n",
       "3            0  B1003 -120.610829  34.632093  2013  \n",
       "4            0  B1004  -80.577366  28.561857  2013  "
      ]
     },
     "execution_count": 7,
     "metadata": {},
     "output_type": "execute_result"
    }
   ],
   "source": [
    "df.head()"
   ]
  },
  {
   "cell_type": "code",
   "execution_count": 8,
   "id": "5809cc86",
   "metadata": {},
   "outputs": [
    {
     "data": {
      "text/html": [
       "<div>\n",
       "<style scoped>\n",
       "    .dataframe tbody tr th:only-of-type {\n",
       "        vertical-align: middle;\n",
       "    }\n",
       "\n",
       "    .dataframe tbody tr th {\n",
       "        vertical-align: top;\n",
       "    }\n",
       "\n",
       "    .dataframe thead th {\n",
       "        text-align: right;\n",
       "    }\n",
       "</style>\n",
       "<table border=\"1\" class=\"dataframe\">\n",
       "  <thead>\n",
       "    <tr style=\"text-align: right;\">\n",
       "      <th></th>\n",
       "      <th>FlightNumber</th>\n",
       "      <th>Date</th>\n",
       "      <th>BoosterVersion</th>\n",
       "      <th>PayloadMass</th>\n",
       "      <th>Orbit</th>\n",
       "      <th>LaunchSite</th>\n",
       "      <th>Outcome</th>\n",
       "      <th>Flights</th>\n",
       "      <th>GridFins</th>\n",
       "      <th>Reused</th>\n",
       "      <th>Legs</th>\n",
       "      <th>LandingPad</th>\n",
       "      <th>Block</th>\n",
       "      <th>ReusedCount</th>\n",
       "      <th>Serial</th>\n",
       "      <th>Longitude</th>\n",
       "      <th>Latitude</th>\n",
       "      <th>year</th>\n",
       "    </tr>\n",
       "  </thead>\n",
       "  <tbody>\n",
       "    <tr>\n",
       "      <th>0</th>\n",
       "      <td>1</td>\n",
       "      <td>2010-06-04</td>\n",
       "      <td>Falcon 9</td>\n",
       "      <td>6124</td>\n",
       "      <td>LEO</td>\n",
       "      <td>CCSFS SLC 40</td>\n",
       "      <td>None None</td>\n",
       "      <td>1</td>\n",
       "      <td>False</td>\n",
       "      <td>False</td>\n",
       "      <td>False</td>\n",
       "      <td>NaN</td>\n",
       "      <td>1</td>\n",
       "      <td>0</td>\n",
       "      <td>B0003</td>\n",
       "      <td>-80.577366</td>\n",
       "      <td>28.561857</td>\n",
       "      <td>2010</td>\n",
       "    </tr>\n",
       "    <tr>\n",
       "      <th>1</th>\n",
       "      <td>2</td>\n",
       "      <td>2012-05-22</td>\n",
       "      <td>Falcon 9</td>\n",
       "      <td>525</td>\n",
       "      <td>LEO</td>\n",
       "      <td>CCSFS SLC 40</td>\n",
       "      <td>None None</td>\n",
       "      <td>1</td>\n",
       "      <td>False</td>\n",
       "      <td>False</td>\n",
       "      <td>False</td>\n",
       "      <td>NaN</td>\n",
       "      <td>1</td>\n",
       "      <td>0</td>\n",
       "      <td>B0005</td>\n",
       "      <td>-80.577366</td>\n",
       "      <td>28.561857</td>\n",
       "      <td>2012</td>\n",
       "    </tr>\n",
       "    <tr>\n",
       "      <th>2</th>\n",
       "      <td>3</td>\n",
       "      <td>2013-03-01</td>\n",
       "      <td>Falcon 9</td>\n",
       "      <td>677</td>\n",
       "      <td>ISS</td>\n",
       "      <td>CCSFS SLC 40</td>\n",
       "      <td>None None</td>\n",
       "      <td>1</td>\n",
       "      <td>False</td>\n",
       "      <td>False</td>\n",
       "      <td>False</td>\n",
       "      <td>NaN</td>\n",
       "      <td>1</td>\n",
       "      <td>0</td>\n",
       "      <td>B0007</td>\n",
       "      <td>-80.577366</td>\n",
       "      <td>28.561857</td>\n",
       "      <td>2013</td>\n",
       "    </tr>\n",
       "    <tr>\n",
       "      <th>3</th>\n",
       "      <td>4</td>\n",
       "      <td>2013-09-29</td>\n",
       "      <td>Falcon 9</td>\n",
       "      <td>500</td>\n",
       "      <td>PO</td>\n",
       "      <td>VAFB SLC 4E</td>\n",
       "      <td>False Ocean</td>\n",
       "      <td>1</td>\n",
       "      <td>False</td>\n",
       "      <td>False</td>\n",
       "      <td>False</td>\n",
       "      <td>NaN</td>\n",
       "      <td>1</td>\n",
       "      <td>0</td>\n",
       "      <td>B1003</td>\n",
       "      <td>-120.610829</td>\n",
       "      <td>34.632093</td>\n",
       "      <td>2013</td>\n",
       "    </tr>\n",
       "    <tr>\n",
       "      <th>4</th>\n",
       "      <td>5</td>\n",
       "      <td>2013-12-03</td>\n",
       "      <td>Falcon 9</td>\n",
       "      <td>3170</td>\n",
       "      <td>GTO</td>\n",
       "      <td>CCSFS SLC 40</td>\n",
       "      <td>None None</td>\n",
       "      <td>1</td>\n",
       "      <td>False</td>\n",
       "      <td>False</td>\n",
       "      <td>False</td>\n",
       "      <td>NaN</td>\n",
       "      <td>1</td>\n",
       "      <td>0</td>\n",
       "      <td>B1004</td>\n",
       "      <td>-80.577366</td>\n",
       "      <td>28.561857</td>\n",
       "      <td>2013</td>\n",
       "    </tr>\n",
       "    <tr>\n",
       "      <th>...</th>\n",
       "      <td>...</td>\n",
       "      <td>...</td>\n",
       "      <td>...</td>\n",
       "      <td>...</td>\n",
       "      <td>...</td>\n",
       "      <td>...</td>\n",
       "      <td>...</td>\n",
       "      <td>...</td>\n",
       "      <td>...</td>\n",
       "      <td>...</td>\n",
       "      <td>...</td>\n",
       "      <td>...</td>\n",
       "      <td>...</td>\n",
       "      <td>...</td>\n",
       "      <td>...</td>\n",
       "      <td>...</td>\n",
       "      <td>...</td>\n",
       "      <td>...</td>\n",
       "    </tr>\n",
       "    <tr>\n",
       "      <th>85</th>\n",
       "      <td>86</td>\n",
       "      <td>2020-09-03</td>\n",
       "      <td>Falcon 9</td>\n",
       "      <td>15600</td>\n",
       "      <td>VLEO</td>\n",
       "      <td>KSC LC 39A</td>\n",
       "      <td>True ASDS</td>\n",
       "      <td>2</td>\n",
       "      <td>True</td>\n",
       "      <td>True</td>\n",
       "      <td>True</td>\n",
       "      <td>5e9e3032383ecb6bb234e7ca</td>\n",
       "      <td>5</td>\n",
       "      <td>12</td>\n",
       "      <td>B1060</td>\n",
       "      <td>-80.603956</td>\n",
       "      <td>28.608058</td>\n",
       "      <td>2020</td>\n",
       "    </tr>\n",
       "    <tr>\n",
       "      <th>86</th>\n",
       "      <td>87</td>\n",
       "      <td>2020-10-06</td>\n",
       "      <td>Falcon 9</td>\n",
       "      <td>15600</td>\n",
       "      <td>VLEO</td>\n",
       "      <td>KSC LC 39A</td>\n",
       "      <td>True ASDS</td>\n",
       "      <td>3</td>\n",
       "      <td>True</td>\n",
       "      <td>True</td>\n",
       "      <td>True</td>\n",
       "      <td>5e9e3032383ecb6bb234e7ca</td>\n",
       "      <td>5</td>\n",
       "      <td>13</td>\n",
       "      <td>B1058</td>\n",
       "      <td>-80.603956</td>\n",
       "      <td>28.608058</td>\n",
       "      <td>2020</td>\n",
       "    </tr>\n",
       "    <tr>\n",
       "      <th>87</th>\n",
       "      <td>88</td>\n",
       "      <td>2020-10-18</td>\n",
       "      <td>Falcon 9</td>\n",
       "      <td>15600</td>\n",
       "      <td>VLEO</td>\n",
       "      <td>KSC LC 39A</td>\n",
       "      <td>True ASDS</td>\n",
       "      <td>6</td>\n",
       "      <td>True</td>\n",
       "      <td>True</td>\n",
       "      <td>True</td>\n",
       "      <td>5e9e3032383ecb6bb234e7ca</td>\n",
       "      <td>5</td>\n",
       "      <td>12</td>\n",
       "      <td>B1051</td>\n",
       "      <td>-80.603956</td>\n",
       "      <td>28.608058</td>\n",
       "      <td>2020</td>\n",
       "    </tr>\n",
       "    <tr>\n",
       "      <th>88</th>\n",
       "      <td>89</td>\n",
       "      <td>2020-10-24</td>\n",
       "      <td>Falcon 9</td>\n",
       "      <td>15600</td>\n",
       "      <td>VLEO</td>\n",
       "      <td>CCSFS SLC 40</td>\n",
       "      <td>True ASDS</td>\n",
       "      <td>3</td>\n",
       "      <td>True</td>\n",
       "      <td>True</td>\n",
       "      <td>True</td>\n",
       "      <td>5e9e3033383ecbb9e534e7cc</td>\n",
       "      <td>5</td>\n",
       "      <td>12</td>\n",
       "      <td>B1060</td>\n",
       "      <td>-80.577366</td>\n",
       "      <td>28.561857</td>\n",
       "      <td>2020</td>\n",
       "    </tr>\n",
       "    <tr>\n",
       "      <th>89</th>\n",
       "      <td>90</td>\n",
       "      <td>2020-11-05</td>\n",
       "      <td>Falcon 9</td>\n",
       "      <td>3681</td>\n",
       "      <td>MEO</td>\n",
       "      <td>CCSFS SLC 40</td>\n",
       "      <td>True ASDS</td>\n",
       "      <td>1</td>\n",
       "      <td>True</td>\n",
       "      <td>False</td>\n",
       "      <td>True</td>\n",
       "      <td>5e9e3032383ecb6bb234e7ca</td>\n",
       "      <td>5</td>\n",
       "      <td>8</td>\n",
       "      <td>B1062</td>\n",
       "      <td>-80.577366</td>\n",
       "      <td>28.561857</td>\n",
       "      <td>2020</td>\n",
       "    </tr>\n",
       "  </tbody>\n",
       "</table>\n",
       "<p>90 rows × 18 columns</p>\n",
       "</div>"
      ],
      "text/plain": [
       "    FlightNumber       Date BoosterVersion  PayloadMass Orbit    LaunchSite  \\\n",
       "0              1 2010-06-04       Falcon 9         6124   LEO  CCSFS SLC 40   \n",
       "1              2 2012-05-22       Falcon 9          525   LEO  CCSFS SLC 40   \n",
       "2              3 2013-03-01       Falcon 9          677   ISS  CCSFS SLC 40   \n",
       "3              4 2013-09-29       Falcon 9          500    PO   VAFB SLC 4E   \n",
       "4              5 2013-12-03       Falcon 9         3170   GTO  CCSFS SLC 40   \n",
       "..           ...        ...            ...          ...   ...           ...   \n",
       "85            86 2020-09-03       Falcon 9        15600  VLEO    KSC LC 39A   \n",
       "86            87 2020-10-06       Falcon 9        15600  VLEO    KSC LC 39A   \n",
       "87            88 2020-10-18       Falcon 9        15600  VLEO    KSC LC 39A   \n",
       "88            89 2020-10-24       Falcon 9        15600  VLEO  CCSFS SLC 40   \n",
       "89            90 2020-11-05       Falcon 9         3681   MEO  CCSFS SLC 40   \n",
       "\n",
       "        Outcome  Flights  GridFins  Reused   Legs                LandingPad  \\\n",
       "0     None None        1     False   False  False                       NaN   \n",
       "1     None None        1     False   False  False                       NaN   \n",
       "2     None None        1     False   False  False                       NaN   \n",
       "3   False Ocean        1     False   False  False                       NaN   \n",
       "4     None None        1     False   False  False                       NaN   \n",
       "..          ...      ...       ...     ...    ...                       ...   \n",
       "85    True ASDS        2      True    True   True  5e9e3032383ecb6bb234e7ca   \n",
       "86    True ASDS        3      True    True   True  5e9e3032383ecb6bb234e7ca   \n",
       "87    True ASDS        6      True    True   True  5e9e3032383ecb6bb234e7ca   \n",
       "88    True ASDS        3      True    True   True  5e9e3033383ecbb9e534e7cc   \n",
       "89    True ASDS        1      True   False   True  5e9e3032383ecb6bb234e7ca   \n",
       "\n",
       "    Block  ReusedCount Serial   Longitude   Latitude  year  \n",
       "0       1            0  B0003  -80.577366  28.561857  2010  \n",
       "1       1            0  B0005  -80.577366  28.561857  2012  \n",
       "2       1            0  B0007  -80.577366  28.561857  2013  \n",
       "3       1            0  B1003 -120.610829  34.632093  2013  \n",
       "4       1            0  B1004  -80.577366  28.561857  2013  \n",
       "..    ...          ...    ...         ...        ...   ...  \n",
       "85      5           12  B1060  -80.603956  28.608058  2020  \n",
       "86      5           13  B1058  -80.603956  28.608058  2020  \n",
       "87      5           12  B1051  -80.603956  28.608058  2020  \n",
       "88      5           12  B1060  -80.577366  28.561857  2020  \n",
       "89      5            8  B1062  -80.577366  28.561857  2020  \n",
       "\n",
       "[90 rows x 18 columns]"
      ]
     },
     "execution_count": 8,
     "metadata": {},
     "output_type": "execute_result"
    }
   ],
   "source": [
    "# Round the PayloadMass column to the nearest integer\n",
    "df['PayloadMass'] = df['PayloadMass'].round().astype(int) \n",
    "df"
   ]
  },
  {
   "cell_type": "code",
   "execution_count": 9,
   "id": "5467de5c",
   "metadata": {},
   "outputs": [
    {
     "name": "stdout",
     "output_type": "stream",
     "text": [
      "    FlightNumber       Date BoosterVersion  PayloadMass Orbit    LaunchSite  \\\n",
      "0              1 2010-06-04       Falcon 9         6124   LEO  CCSFS SLC 40   \n",
      "1              2 2012-05-22       Falcon 9          525   LEO  CCSFS SLC 40   \n",
      "2              3 2013-03-01       Falcon 9          677   ISS  CCSFS SLC 40   \n",
      "3              4 2013-09-29       Falcon 9          500    PO   VAFB SLC 4E   \n",
      "4              5 2013-12-03       Falcon 9         3170   GTO  CCSFS SLC 40   \n",
      "..           ...        ...            ...          ...   ...           ...   \n",
      "85            86 2020-09-03       Falcon 9        15600  VLEO    KSC LC 39A   \n",
      "86            87 2020-10-06       Falcon 9        15600  VLEO    KSC LC 39A   \n",
      "87            88 2020-10-18       Falcon 9        15600  VLEO    KSC LC 39A   \n",
      "88            89 2020-10-24       Falcon 9        15600  VLEO  CCSFS SLC 40   \n",
      "89            90 2020-11-05       Falcon 9         3681   MEO  CCSFS SLC 40   \n",
      "\n",
      "    Outcome  Flights  GridFins  Reused   Legs                LandingPad  \\\n",
      "0      None        1     False   False  False                       NaN   \n",
      "1      None        1     False   False  False                       NaN   \n",
      "2      None        1     False   False  False                       NaN   \n",
      "3   Failure        1     False   False  False                       NaN   \n",
      "4      None        1     False   False  False                       NaN   \n",
      "..      ...      ...       ...     ...    ...                       ...   \n",
      "85  Success        2      True    True   True  5e9e3032383ecb6bb234e7ca   \n",
      "86  Success        3      True    True   True  5e9e3032383ecb6bb234e7ca   \n",
      "87  Success        6      True    True   True  5e9e3032383ecb6bb234e7ca   \n",
      "88  Success        3      True    True   True  5e9e3033383ecbb9e534e7cc   \n",
      "89  Success        1      True   False   True  5e9e3032383ecb6bb234e7ca   \n",
      "\n",
      "    Block  ReusedCount Serial   Longitude   Latitude  year  \n",
      "0       1            0  B0003  -80.577366  28.561857  2010  \n",
      "1       1            0  B0005  -80.577366  28.561857  2012  \n",
      "2       1            0  B0007  -80.577366  28.561857  2013  \n",
      "3       1            0  B1003 -120.610829  34.632093  2013  \n",
      "4       1            0  B1004  -80.577366  28.561857  2013  \n",
      "..    ...          ...    ...         ...        ...   ...  \n",
      "85      5           12  B1060  -80.603956  28.608058  2020  \n",
      "86      5           13  B1058  -80.603956  28.608058  2020  \n",
      "87      5           12  B1051  -80.603956  28.608058  2020  \n",
      "88      5           12  B1060  -80.577366  28.561857  2020  \n",
      "89      5            8  B1062  -80.577366  28.561857  2020  \n",
      "\n",
      "[90 rows x 18 columns]\n"
     ]
    }
   ],
   "source": [
    "#Replacing the values \n",
    "outcome_mapping = {\n",
    "    'True RTLS': 'Success',\n",
    "    'True ASDS': 'Success',\n",
    "    'True Ocean': 'Success',\n",
    "    'False RTLS': 'Failure',\n",
    "    'False Ocean': 'Failure',\n",
    "    'False ASDS': 'Failure',\n",
    "    'None None': 'None',\n",
    "    'None ASDS': 'None'\n",
    "}\n",
    "\n",
    "# Replace values in the column\n",
    "df['Outcome'] = df['Outcome'].replace(outcome_mapping)\n",
    "\n",
    "print(df)"
   ]
  },
  {
   "cell_type": "code",
   "execution_count": 10,
   "id": "072722b2",
   "metadata": {},
   "outputs": [],
   "source": [
    "df_clean = df[df['Outcome'] != 'None']"
   ]
  },
  {
   "cell_type": "markdown",
   "id": "e0d072a0",
   "metadata": {},
   "source": [
    "# Perform Exploratory Data Analysis (EDA)"
   ]
  },
  {
   "cell_type": "markdown",
   "id": "4583d84d",
   "metadata": {},
   "source": [
    "Success Rate Over Time:"
   ]
  },
  {
   "cell_type": "code",
   "execution_count": 11,
   "id": "5361f51b",
   "metadata": {},
   "outputs": [
    {
     "data": {
      "image/png": "[encoded data removed]",
      "text/plain": [
       "<Figure size 432x288 with 1 Axes>"
      ]
     },
     "metadata": {
      "needs_background": "light"
     },
     "output_type": "display_data"
    }
   ],
   "source": [
    "# Group by year and mission outcome\n",
    "success_rate = df_clean.groupby('year')['Outcome'].value_counts(normalize=True).unstack()\n",
    "\n",
    "# Plot\n",
    "success_rate['Success'].plot(kind='bar', color='green', alpha=0.7, label='Success')\n",
    "success_rate['Failure'].plot(kind='bar', color='red', alpha=0.7, label='Failure', bottom=success_rate['Success'])\n",
    "plt.title('Landing Success Rate Over Time')\n",
    "plt.xlabel('Year')\n",
    "plt.ylabel('Success Rate')\n",
    "plt.legend()\n",
    "plt.show()"
   ]
  },
  {
   "cell_type": "markdown",
   "id": "8fa7fa43",
   "metadata": {},
   "source": [
    "Success Rate by Flight Type:"
   ]
  },
  {
   "cell_type": "code",
   "execution_count": 35,
   "id": "77611341",
   "metadata": {},
   "outputs": [
    {
     "data": {
      "image/png": "[encoded data removed]",
      "text/plain": [
       "<Figure size 432x288 with 1 Axes>"
      ]
     },
     "metadata": {
      "needs_background": "light"
     },
     "output_type": "display_data"
    }
   ],
   "source": [
    "# Group by rocket type and mission outcome\n",
    "Flight_success = df.groupby('Flights')['Outcome'].value_counts(normalize=True).unstack()\n",
    "\n",
    "# Plot\n",
    "Flight_success['Success'].sort_values().plot(kind='barh', color='blue', alpha=0.7)\n",
    "plt.title('Success Rate by Flights Type')\n",
    "plt.xlabel('Success Rate')\n",
    "plt.ylabel('Flights')\n",
    "plt.show()"
   ]
  },
  {
   "cell_type": "markdown",
   "id": "1a3569ff",
   "metadata": {},
   "source": [
    "Payload Mass vs. Mission Outcome:"
   ]
  },
  {
   "cell_type": "code",
   "execution_count": 13,
   "id": "c0c7fd6c",
   "metadata": {},
   "outputs": [
    {
     "data": {
      "image/png": "[encoded data removed]",
      "text/plain": [
       "<Figure size 720x432 with 1 Axes>"
      ]
     },
     "metadata": {
      "needs_background": "light"
     },
     "output_type": "display_data"
    }
   ],
   "source": [
    "plt.figure(figsize=(10, 6))\n",
    "sns.boxplot(x='Outcome', y='PayloadMass', data=df)\n",
    "plt.title('Payload Mass vs. Mission Outcome')\n",
    "plt.xlabel('Mission Outcome')\n",
    "plt.ylabel('Payload Mass (kg)')\n",
    "plt.show()"
   ]
  },
  {
   "cell_type": "markdown",
   "id": "6b00e09b",
   "metadata": {},
   "source": [
    "# Statistical Analysis"
   ]
  },
  {
   "cell_type": "code",
   "execution_count": 14,
   "id": "9e350973",
   "metadata": {},
   "outputs": [
    {
     "name": "stdout",
     "output_type": "stream",
     "text": [
      "FlightNumber       0\n",
      "Date               0\n",
      "BoosterVersion     0\n",
      "PayloadMass        0\n",
      "Orbit              0\n",
      "LaunchSite         0\n",
      "Outcome            0\n",
      "Flights            0\n",
      "GridFins           0\n",
      "Reused             0\n",
      "Legs               0\n",
      "LandingPad        26\n",
      "Block              0\n",
      "ReusedCount        0\n",
      "Serial             0\n",
      "Longitude          0\n",
      "Latitude           0\n",
      "year               0\n",
      "dtype: int64\n"
     ]
    }
   ],
   "source": [
    "# Checking if there are any null\n",
    "print(df.isnull().sum())"
   ]
  },
  {
   "cell_type": "code",
   "execution_count": 15,
   "id": "1e238cad",
   "metadata": {},
   "outputs": [],
   "source": [
    "df['PayloadMass'].fillna(df['PayloadMass'].mean(), inplace=True)\n",
    "df['Flights'].fillna(df['Flights'].median(), inplace=True)"
   ]
  },
  {
   "cell_type": "code",
   "execution_count": 16,
   "id": "253a49dd",
   "metadata": {},
   "outputs": [
    {
     "name": "stdout",
     "output_type": "stream",
     "text": [
      "FlightNumber      0\n",
      "Date              0\n",
      "BoosterVersion    0\n",
      "PayloadMass       0\n",
      "Orbit             0\n",
      "LaunchSite        0\n",
      "Outcome           0\n",
      "Flights           0\n",
      "GridFins          0\n",
      "Reused            0\n",
      "Legs              0\n",
      "LandingPad        0\n",
      "Block             0\n",
      "ReusedCount       0\n",
      "Serial            0\n",
      "Longitude         0\n",
      "Latitude          0\n",
      "year              0\n",
      "dtype: int64\n"
     ]
    }
   ],
   "source": [
    "print(df.isin([np.inf, -np.inf]).sum())"
   ]
  },
  {
   "cell_type": "code",
   "execution_count": 17,
   "id": "77b157e4",
   "metadata": {},
   "outputs": [],
   "source": [
    "df.replace([np.inf, -np.inf], np.nan, inplace=True)\n",
    "df = df.dropna()"
   ]
  },
  {
   "cell_type": "code",
   "execution_count": 18,
   "id": "e7b4dc4b",
   "metadata": {},
   "outputs": [
    {
     "name": "stdout",
     "output_type": "stream",
     "text": [
      "FlightNumber      0\n",
      "Date              0\n",
      "BoosterVersion    0\n",
      "PayloadMass       0\n",
      "Orbit             0\n",
      "LaunchSite        0\n",
      "Outcome           0\n",
      "Flights           0\n",
      "GridFins          0\n",
      "Reused            0\n",
      "Legs              0\n",
      "LandingPad        0\n",
      "Block             0\n",
      "ReusedCount       0\n",
      "Serial            0\n",
      "Longitude         0\n",
      "Latitude          0\n",
      "year              0\n",
      "dtype: int64\n",
      "FlightNumber      0\n",
      "Date              0\n",
      "BoosterVersion    0\n",
      "PayloadMass       0\n",
      "Orbit             0\n",
      "LaunchSite        0\n",
      "Outcome           0\n",
      "Flights           0\n",
      "GridFins          0\n",
      "Reused            0\n",
      "Legs              0\n",
      "LandingPad        0\n",
      "Block             0\n",
      "ReusedCount       0\n",
      "Serial            0\n",
      "Longitude         0\n",
      "Latitude          0\n",
      "year              0\n",
      "dtype: int64\n",
      "       FlightNumber   PayloadMass    Flights     Block  ReusedCount  \\\n",
      "count     64.000000     64.000000  64.000000  64.00000     64.00000   \n",
      "mean      52.703125   6893.781250   1.937500   3.93750      4.31250   \n",
      "std       23.886424   5190.539604   1.331844   1.40153      4.49294   \n",
      "min       12.000000    350.000000   1.000000   1.00000      0.00000   \n",
      "25%       31.500000   2674.250000   1.000000   3.00000      1.00000   \n",
      "50%       55.500000   5100.000000   1.000000   5.00000      3.00000   \n",
      "75%       74.250000   9600.000000   2.250000   5.00000      9.00000   \n",
      "max       90.000000  15600.000000   6.000000   5.00000     13.00000   \n",
      "\n",
      "        Longitude   Latitude         year  \n",
      "count   64.000000  64.000000    64.000000  \n",
      "mean   -86.840073  29.523326  2018.046875  \n",
      "std     14.647508   2.215935     1.607815  \n",
      "min   -120.610829  28.561857  2015.000000  \n",
      "25%    -80.603956  28.561857  2017.000000  \n",
      "50%    -80.577366  28.561857  2018.000000  \n",
      "75%    -80.577366  28.608058  2020.000000  \n",
      "max    -80.577366  34.632093  2020.000000  \n"
     ]
    }
   ],
   "source": [
    "print(df.isnull().sum())  # Should show 0 missing values\n",
    "print(df.isin([np.inf, -np.inf]).sum())\n",
    "print(df.describe())"
   ]
  },
  {
   "cell_type": "code",
   "execution_count": 27,
   "id": "06fb9871",
   "metadata": {},
   "outputs": [
    {
     "name": "stdout",
     "output_type": "stream",
     "text": [
      "PayloadMass               0\n",
      "Flights                   0\n",
      "LaunchSite_KSC LC 39A     0\n",
      "LaunchSite_VAFB SLC 4E    0\n",
      "dtype: int64\n",
      "PayloadMass               0\n",
      "Flights                   0\n",
      "LaunchSite_KSC LC 39A     0\n",
      "LaunchSite_VAFB SLC 4E    0\n",
      "dtype: int64\n"
     ]
    }
   ],
   "source": [
    "X = df[['PayloadMass', 'Flights', 'LaunchSite']]\n",
    "X = pd.get_dummies(X, drop_first=True)\n",
    "\n",
    "# Check for NaN or infinite values in X\n",
    "print(X.isnull().sum())\n",
    "print(X.isin([np.inf, -np.inf]).sum())"
   ]
  },
  {
   "cell_type": "code",
   "execution_count": 28,
   "id": "04baa9c1",
   "metadata": {},
   "outputs": [
    {
     "name": "stdout",
     "output_type": "stream",
     "text": [
      "2\n",
      "[ 0. nan  1.]\n"
     ]
    }
   ],
   "source": [
    "y = df['Outcome'].map({'Success': 1, 'Failure': 0})\n",
    "\n",
    "# Check for NaN or invalid values in y\n",
    "print(y.isnull().sum())\n",
    "print(y.unique())  # Should only contain [0, 1]"
   ]
  },
  {
   "cell_type": "code",
   "execution_count": 29,
   "id": "791c08ed",
   "metadata": {},
   "outputs": [],
   "source": [
    "y = y.dropna()  # Drop rows with missing target values\n",
    "X = X.loc[y.index]  # Ensure X and y have the same index"
   ]
  },
  {
   "cell_type": "code",
   "execution_count": 32,
   "id": "b7bdab92",
   "metadata": {},
   "outputs": [
    {
     "name": "stdout",
     "output_type": "stream",
     "text": [
      "PayloadMass               0\n",
      "Flights                   0\n",
      "LaunchSite_KSC LC 39A     0\n",
      "LaunchSite_VAFB SLC 4E    0\n",
      "dtype: int64\n",
      "PayloadMass               0\n",
      "Flights                   0\n",
      "LaunchSite_KSC LC 39A     0\n",
      "LaunchSite_VAFB SLC 4E    0\n",
      "dtype: int64\n",
      "PayloadMass               0\n",
      "Flights                   0\n",
      "LaunchSite_KSC LC 39A     0\n",
      "LaunchSite_VAFB SLC 4E    0\n",
      "dtype: int64\n",
      "PayloadMass               0\n",
      "Flights                   0\n",
      "LaunchSite_KSC LC 39A     0\n",
      "LaunchSite_VAFB SLC 4E    0\n",
      "dtype: int64\n"
     ]
    }
   ],
   "source": [
    "from sklearn.model_selection import train_test_split\n",
    "\n",
    "X_train, X_test, y_train, y_test = train_test_split(X, y, test_size=0.2, random_state=42)\n",
    "\n",
    "# Check for NaN or infinite values in X_train, X_test\n",
    "print(X_train.isnull().sum())\n",
    "print(X_test.isnull().sum())\n",
    "print(X_train.isin([np.inf, -np.inf]).sum())\n",
    "print(X_test.isin([np.inf, -np.inf]).sum())"
   ]
  },
  {
   "cell_type": "markdown",
   "id": "46f6366e",
   "metadata": {},
   "source": [
    "Predict Mission Success by using Random Forest Method"
   ]
  },
  {
   "cell_type": "code",
   "execution_count": 33,
   "id": "96a05afe",
   "metadata": {},
   "outputs": [
    {
     "name": "stdout",
     "output_type": "stream",
     "text": [
      "              precision    recall  f1-score   support\n",
      "\n",
      "         0.0       0.00      0.00      0.00         2\n",
      "         1.0       0.85      1.00      0.92        11\n",
      "\n",
      "    accuracy                           0.85        13\n",
      "   macro avg       0.42      0.50      0.46        13\n",
      "weighted avg       0.72      0.85      0.78        13\n",
      "\n"
     ]
    },
    {
     "name": "stderr",
     "output_type": "stream",
     "text": [
      "C:\\Users\\91782\\anaconda3\\lib\\site-packages\\sklearn\\metrics\\_classification.py:1248: UndefinedMetricWarning: Precision and F-score are ill-defined and being set to 0.0 in labels with no predicted samples. Use `zero_division` parameter to control this behavior.\n",
      "  _warn_prf(average, modifier, msg_start, len(result))\n",
      "C:\\Users\\91782\\anaconda3\\lib\\site-packages\\sklearn\\metrics\\_classification.py:1248: UndefinedMetricWarning: Precision and F-score are ill-defined and being set to 0.0 in labels with no predicted samples. Use `zero_division` parameter to control this behavior.\n",
      "  _warn_prf(average, modifier, msg_start, len(result))\n",
      "C:\\Users\\91782\\anaconda3\\lib\\site-packages\\sklearn\\metrics\\_classification.py:1248: UndefinedMetricWarning: Precision and F-score are ill-defined and being set to 0.0 in labels with no predicted samples. Use `zero_division` parameter to control this behavior.\n",
      "  _warn_prf(average, modifier, msg_start, len(result))\n"
     ]
    }
   ],
   "source": [
    "from sklearn.ensemble import RandomForestClassifier\n",
    "from sklearn.metrics import classification_report\n",
    "\n",
    "# Train model\n",
    "model = RandomForestClassifier()\n",
    "model.fit(X_train, y_train)\n",
    "\n",
    "# Evaluate model\n",
    "y_pred = model.predict(X_test)\n",
    "print(classification_report(y_test, y_pred))"
   ]
  },
  {
   "cell_type": "markdown",
   "id": "16e8e496",
   "metadata": {},
   "source": [
    "Time series forecasting "
   ]
  },
  {
   "cell_type": "code",
   "execution_count": 36,
   "id": "906460d4",
   "metadata": {},
   "outputs": [],
   "source": [
    "# Set LaunchDate as the index\n",
    "df.set_index('Date', inplace=True)"
   ]
  },
  {
   "cell_type": "code",
   "execution_count": 37,
   "id": "425f1ce6",
   "metadata": {},
   "outputs": [],
   "source": [
    "# Resample by month and count launches\n",
    "monthly_launches = df.resample('M').size()"
   ]
  },
  {
   "cell_type": "code",
   "execution_count": 38,
   "id": "0fb2cab7",
   "metadata": {},
   "outputs": [],
   "source": [
    "monthly_launches = monthly_launches.fillna(0)"
   ]
  },
  {
   "cell_type": "code",
   "execution_count": 39,
   "id": "ca7b76d7",
   "metadata": {},
   "outputs": [
    {
     "data": {
      "image/png": "[encoded data removed]",
      "text/plain": [
       "<Figure size 720x432 with 1 Axes>"
      ]
     },
     "metadata": {
      "needs_background": "light"
     },
     "output_type": "display_data"
    }
   ],
   "source": [
    "# Plot the time series\n",
    "plt.figure(figsize=(10, 6))\n",
    "plt.plot(monthly_launches, marker='o')\n",
    "plt.title('Monthly SpaceX Launches')\n",
    "plt.xlabel('Date')\n",
    "plt.ylabel('Number of Launches')\n",
    "plt.grid()\n",
    "plt.show()"
   ]
  },
  {
   "cell_type": "markdown",
   "id": "e00b078f",
   "metadata": {},
   "source": [
    "ARIMA (AutoRegressive Integrated Moving Average)"
   ]
  },
  {
   "cell_type": "code",
   "execution_count": 41,
   "id": "a4ada51d",
   "metadata": {},
   "outputs": [
    {
     "name": "stdout",
     "output_type": "stream",
     "text": [
      "2020-12-31    1.674984\n",
      "2021-01-31    1.561487\n",
      "2021-02-28    1.580571\n",
      "2021-03-31    1.577362\n",
      "2021-04-30    1.577902\n",
      "2021-05-31    1.577811\n",
      "2021-06-30    1.577826\n",
      "2021-07-31    1.577824\n",
      "2021-08-31    1.577824\n",
      "2021-09-30    1.577824\n",
      "2021-10-31    1.577824\n",
      "2021-11-30    1.577824\n",
      "Freq: M, Name: predicted_mean, dtype: float64\n"
     ]
    }
   ],
   "source": [
    "from statsmodels.tsa.arima.model import ARIMA\n",
    "\n",
    "# Fit ARIMA model\n",
    "model = ARIMA(monthly_launches, order=(1, 1, 1))  # Example parameters\n",
    "results = model.fit()\n",
    "\n",
    "# Forecast\n",
    "forecast = results.forecast(steps=12)  # Predict next 12 months\n",
    "print(forecast)"
   ]
  },
  {
   "cell_type": "code",
   "execution_count": null,
   "id": "5847081b",
   "metadata": {},
   "outputs": [],
   "source": []
  }
 ],
 "metadata": {
  "kernelspec": {
   "display_name": "Python 3 (ipykernel)",
   "language": "python",
   "name": "python3"
  },
  "language_info": {
   "codemirror_mode": {
    "name": "ipython",
    "version": 3
   },
   "file_extension": ".py",
   "mimetype": "text/x-python",
   "name": "python",
   "nbconvert_exporter": "python",
   "pygments_lexer": "ipython3",
   "version": "3.9.7"
  }
 },
 "nbformat": 4,
 "nbformat_minor": 5
}
